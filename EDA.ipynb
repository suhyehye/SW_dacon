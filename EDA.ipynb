{
 "cells": [
  {
   "cell_type": "code",
   "execution_count": 6,
   "metadata": {},
   "outputs": [],
   "source": [
    "import pandas as pd\n",
    "import numpy as np\n",
    "\n",
    "train_data = pd.read_csv('train.csv',index_col=0)\n",
    "train_data.head()\n",
    "test_data = pd.read_csv('test.csv',index_col=0)"
   ]
  },
  {
   "cell_type": "code",
   "execution_count": 7,
   "metadata": {},
   "outputs": [
    {
     "name": "stdout",
     "output_type": "stream",
     "text": [
      "<class 'pandas.core.frame.DataFrame'>\n",
      "Int64Index: 15000 entries, 0 to 14999\n",
      "Data columns (total 69 columns):\n",
      " #   Column        Non-Null Count  Dtype  \n",
      "---  ------        --------------  -----  \n",
      " 0   Q1            14959 non-null  float64\n",
      " 1   Q2            14931 non-null  float64\n",
      " 2   Q3            14950 non-null  float64\n",
      " 3   Q4            14929 non-null  float64\n",
      " 4   Q5            14962 non-null  float64\n",
      " 5   Q6            14952 non-null  float64\n",
      " 6   Q7            14924 non-null  float64\n",
      " 7   Q8            14952 non-null  float64\n",
      " 8   Q9            14944 non-null  float64\n",
      " 9   Q10           14928 non-null  float64\n",
      " 10  Q11           14941 non-null  float64\n",
      " 11  Q12           14933 non-null  float64\n",
      " 12  Q13           14960 non-null  float64\n",
      " 13  Q14           14964 non-null  float64\n",
      " 14  Q15           14955 non-null  float64\n",
      " 15  Q16           14967 non-null  float64\n",
      " 16  Q17           14963 non-null  float64\n",
      " 17  Q18           14937 non-null  float64\n",
      " 18  Q19           14947 non-null  float64\n",
      " 19  Q20           14955 non-null  float64\n",
      " 20  Q21           14961 non-null  float64\n",
      " 21  Q22           14962 non-null  float64\n",
      " 22  Q23           14950 non-null  float64\n",
      " 23  Q24           14939 non-null  float64\n",
      " 24  Q25           14956 non-null  float64\n",
      " 25  Q26           14932 non-null  float64\n",
      " 26  country       14810 non-null  object \n",
      " 27  introelapse   15000 non-null  int64  \n",
      " 28  testelapse    15000 non-null  int64  \n",
      " 29  surveyelapse  15000 non-null  int64  \n",
      " 30  TIPI1         14947 non-null  float64\n",
      " 31  TIPI2         14934 non-null  float64\n",
      " 32  TIPI3         14921 non-null  float64\n",
      " 33  TIPI4         14936 non-null  float64\n",
      " 34  TIPI5         14930 non-null  float64\n",
      " 35  TIPI6         14938 non-null  float64\n",
      " 36  TIPI7         14936 non-null  float64\n",
      " 37  TIPI8         14935 non-null  float64\n",
      " 38  TIPI9         14936 non-null  float64\n",
      " 39  TIPI10        14920 non-null  float64\n",
      " 40  VCL1          15000 non-null  int64  \n",
      " 41  VCL2          15000 non-null  int64  \n",
      " 42  VCL3          15000 non-null  int64  \n",
      " 43  VCL4          15000 non-null  int64  \n",
      " 44  VCL5          15000 non-null  int64  \n",
      " 45  VCL6          15000 non-null  int64  \n",
      " 46  VCL7          15000 non-null  int64  \n",
      " 47  VCL8          15000 non-null  int64  \n",
      " 48  VCL9          15000 non-null  int64  \n",
      " 49  VCL10         15000 non-null  int64  \n",
      " 50  VCL11         15000 non-null  int64  \n",
      " 51  VCL12         15000 non-null  int64  \n",
      " 52  VCL13         15000 non-null  int64  \n",
      " 53  VCL14         15000 non-null  int64  \n",
      " 54  VCL15         15000 non-null  int64  \n",
      " 55  VCL16         15000 non-null  int64  \n",
      " 56  education     14833 non-null  float64\n",
      " 57  urban         15000 non-null  int64  \n",
      " 58  gender        14981 non-null  float64\n",
      " 59  engnat        14953 non-null  float64\n",
      " 60  age           15000 non-null  int64  \n",
      " 61  hand          14953 non-null  float64\n",
      " 62  religion      14755 non-null  float64\n",
      " 63  orientation   14601 non-null  float64\n",
      " 64  voted         14915 non-null  float64\n",
      " 65  married       14918 non-null  float64\n",
      " 66  familysize    14681 non-null  float64\n",
      " 67  ASD           14911 non-null  float64\n",
      " 68  nerdiness     15000 non-null  int64  \n",
      "dtypes: float64(46), int64(22), object(1)\n",
      "memory usage: 8.0+ MB\n"
     ]
    }
   ],
   "source": [
    "train_data.info()"
   ]
  },
  {
   "cell_type": "code",
   "execution_count": 8,
   "metadata": {},
   "outputs": [
    {
     "data": {
      "text/plain": [
       "Q1             41\n",
       "Q2             69\n",
       "Q3             50\n",
       "Q4             71\n",
       "Q5             38\n",
       "             ... \n",
       "voted          85\n",
       "married        82\n",
       "familysize    319\n",
       "ASD            89\n",
       "nerdiness       0\n",
       "Length: 69, dtype: int64"
      ]
     },
     "execution_count": 8,
     "metadata": {},
     "output_type": "execute_result"
    }
   ],
   "source": [
    "train_data.isnull().sum()"
   ]
  },
  {
   "cell_type": "code",
   "execution_count": null,
   "metadata": {},
   "outputs": [],
   "source": []
  }
 ],
 "metadata": {
  "kernelspec": {
   "display_name": "Python 3.10.5 64-bit (windows store)",
   "language": "python",
   "name": "python3"
  },
  "language_info": {
   "codemirror_mode": {
    "name": "ipython",
    "version": 3
   },
   "file_extension": ".py",
   "mimetype": "text/x-python",
   "name": "python",
   "nbconvert_exporter": "python",
   "pygments_lexer": "ipython3",
   "version": "3.10.5"
  },
  "orig_nbformat": 4,
  "vscode": {
   "interpreter": {
    "hash": "29a5d830ee5eb5eabdb10511c29aaced43bbb583532fb9ecb44e50060afee3b8"
   }
  }
 },
 "nbformat": 4,
 "nbformat_minor": 2
}
